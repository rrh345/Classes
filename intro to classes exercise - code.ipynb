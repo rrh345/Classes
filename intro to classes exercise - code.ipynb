{
 "cells": [
  {
   "cell_type": "code",
   "execution_count": 14,
   "metadata": {},
   "outputs": [],
   "source": [
    "#Animal\n",
    "\n",
    "class Animal:\n",
    "    \"\"\"Animal class\"\"\"\n",
    "    def __init__(self, species, origin, age):\n",
    "        self._species = species\n",
    "        self._origin = origin\n",
    "        self._age = age\n",
    "    \n",
    "    @property\n",
    "    def species(self):\n",
    "        return self._species\n",
    "\n",
    "    @species.setter\n",
    "    def species(self, new_species):\n",
    "        self._species = new_species\n",
    "\n",
    "    @property\n",
    "    def origin(self):\n",
    "        return self._origin\n",
    "\n",
    "    @origin.setter\n",
    "    def origin(self, origin):\n",
    "        self._origin = origin\n",
    "\n",
    "    @property\n",
    "    def age(self):\n",
    "        return self._age\n",
    "\n",
    "    @age.setter\n",
    "    def age(self, age):\n",
    "        self._age = age\n",
    "    \n",
    "    def move():\n",
    "        print (\"Moving\")\n",
    "\n",
    "    def eat():\n",
    "        print (\"Eating\")"
   ]
  },
  {
   "cell_type": "code",
   "execution_count": 15,
   "metadata": {},
   "outputs": [
    {
     "name": "stdout",
     "output_type": "stream",
     "text": [
      "19\n"
     ]
    }
   ],
   "source": [
    "animal1 = Animal(\"Panda\", \"China\", 19)\n",
    "print(animal1.age)"
   ]
  }
 ],
 "metadata": {
  "interpreter": {
   "hash": "86d1a67b0d56e74f294bd0a89711776805270fb9ebddae761db44ecf66e3b529"
  },
  "kernelspec": {
   "display_name": "Python 3.9.7 64-bit ('base': conda)",
   "language": "python",
   "name": "python3"
  },
  "language_info": {
   "codemirror_mode": {
    "name": "ipython",
    "version": 3
   },
   "file_extension": ".py",
   "mimetype": "text/x-python",
   "name": "python",
   "nbconvert_exporter": "python",
   "pygments_lexer": "ipython3",
   "version": "3.9.7"
  },
  "orig_nbformat": 4
 },
 "nbformat": 4,
 "nbformat_minor": 2
}
