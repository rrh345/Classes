{
 "cells": [
  {
   "cell_type": "code",
   "execution_count": 31,
   "metadata": {},
   "outputs": [],
   "source": [
    "#Animal\n",
    "\n",
    "class Animal:\n",
    "    \"\"\"Animal class\"\"\"\n",
    "    def __init__(self, species, age):\n",
    "        self._species = species\n",
    "        self._age = age\n",
    "    \n",
    "    @property\n",
    "    def species(self):\n",
    "        return self._species\n",
    "\n",
    "    @property\n",
    "    def origin(self):\n",
    "        return self._origin\n",
    "\n",
    "    @origin.setter\n",
    "    def origin(self, origin):\n",
    "        self._origin = origin\n",
    "\n",
    "    @property\n",
    "    def age(self):\n",
    "        return self._age\n",
    "\n",
    "    @age.setter\n",
    "    def age(self, age):\n",
    "        self._age = age\n",
    "    \n",
    "    def move(self):\n",
    "        print (\"Moving\")\n",
    "\n",
    "    def eat(self):\n",
    "        print (\"Eating\")\n",
    "\n",
    "class Person(Animal):\n",
    "    \"\"\"Person class, inheriting from Animal\"\"\"\n",
    "    def __init__(self, species, age, name):\n",
    "        super().__init__(species, age)\n",
    "        self._name = name\n",
    "    \n",
    "    @property\n",
    "    def name(self):\n",
    "        return self._name\n",
    "\n",
    "    @name.setter\n",
    "    def name(self, new_name):\n",
    "        self._name = new_name\n",
    "\n",
    "    def talk(self, words):\n",
    "        print(f\"Said {words}\")"
   ]
  },
  {
   "cell_type": "code",
   "execution_count": 32,
   "metadata": {},
   "outputs": [
    {
     "name": "stdout",
     "output_type": "stream",
     "text": [
      "Said Hello\n"
     ]
    }
   ],
   "source": [
    "person1 = Person(\"human\", 23, \"Gina\")\n",
    "person1.talk(\"Hello\")"
   ]
  }
 ],
 "metadata": {
  "interpreter": {
   "hash": "86d1a67b0d56e74f294bd0a89711776805270fb9ebddae761db44ecf66e3b529"
  },
  "kernelspec": {
   "display_name": "Python 3.9.7 64-bit ('base': conda)",
   "language": "python",
   "name": "python3"
  },
  "language_info": {
   "codemirror_mode": {
    "name": "ipython",
    "version": 3
   },
   "file_extension": ".py",
   "mimetype": "text/x-python",
   "name": "python",
   "nbconvert_exporter": "python",
   "pygments_lexer": "ipython3",
   "version": "3.9.7"
  },
  "orig_nbformat": 4
 },
 "nbformat": 4,
 "nbformat_minor": 2
}
